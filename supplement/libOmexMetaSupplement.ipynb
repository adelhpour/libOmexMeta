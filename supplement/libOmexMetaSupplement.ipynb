{
 "cells": [
  {
   "cell_type": "markdown",
   "metadata": {},
   "source": [
    "# Setup of toy model"
   ]
  },
  {
   "cell_type": "code",
   "execution_count": 1,
   "metadata": {},
   "outputs": [
    {
     "name": "stdout",
     "output_type": "stream",
     "text": [
      "<?xml version=\"1.0\" encoding=\"UTF-8\"?>\n",
      "<sbml xmlns=\"http://www.sbml.org/sbml/level3/version1/core\" level=\"3\" version=\"1\">\n",
      "  <model metaid=\"new_model\" id=\"new_model\">\n",
      "    <listOfCompartments>\n",
      "      <compartment sboTerm=\"SBO:0000410\" id=\"default_compartment\" spatialDimensions=\"3\" size=\"1\" constant=\"true\"/>\n",
      "    </listOfCompartments>\n",
      "    <listOfSpecies>\n",
      "      <species id=\"S\" compartment=\"default_compartment\" initialConcentration=\"100\" hasOnlySubstanceUnits=\"false\" boundaryCondition=\"false\" constant=\"false\"/>\n",
      "      <species id=\"E\" compartment=\"default_compartment\" initialConcentration=\"0.5\" hasOnlySubstanceUnits=\"false\" boundaryCondition=\"false\" constant=\"false\"/>\n",
      "      <species id=\"SE\" compartment=\"default_compartment\" initialConcentration=\"0\" hasOnlySubstanceUnits=\"false\" boundaryCondition=\"false\" constant=\"false\"/>\n",
      "      <species id=\"P\" compartment=\"default_compartment\" initialConcentration=\"0\" hasOnlySubstanceUnits=\"false\" boundaryCondition=\"false\" constant=\"false\"/>\n",
      "    </listOfSpecies>\n",
      "    <listOfParameters>\n",
      "      <parameter id=\"kf\" value=\"0.1\" constant=\"true\"/>\n",
      "      <parameter id=\"kb\" value=\"0.01\" constant=\"true\"/>\n",
      "      <parameter id=\"kcat\" value=\"0.0001\" constant=\"true\"/>\n",
      "    </listOfParameters>\n",
      "    <listOfReactions>\n",
      "      <reaction id=\"R1\" reversible=\"false\" fast=\"false\">\n",
      "        <listOfReactants>\n",
      "          <speciesReference species=\"S\" stoichiometry=\"1\" constant=\"true\"/>\n",
      "          <speciesReference species=\"E\" stoichiometry=\"1\" constant=\"true\"/>\n",
      "        </listOfReactants>\n",
      "        <listOfProducts>\n",
      "          <speciesReference species=\"SE\" stoichiometry=\"1\" constant=\"true\"/>\n",
      "        </listOfProducts>\n",
      "        <kineticLaw>\n",
      "          <math xmlns=\"http://www.w3.org/1998/Math/MathML\">\n",
      "            <apply>\n",
      "              <times/>\n",
      "              <ci> kf </ci>\n",
      "              <ci> S </ci>\n",
      "              <ci> E </ci>\n",
      "            </apply>\n",
      "          </math>\n",
      "        </kineticLaw>\n",
      "      </reaction>\n",
      "      <reaction id=\"R2\" reversible=\"false\" fast=\"false\">\n",
      "        <listOfReactants>\n",
      "          <speciesReference species=\"SE\" stoichiometry=\"1\" constant=\"true\"/>\n",
      "        </listOfReactants>\n",
      "        <listOfProducts>\n",
      "          <speciesReference species=\"S\" stoichiometry=\"1\" constant=\"true\"/>\n",
      "          <speciesReference species=\"E\" stoichiometry=\"1\" constant=\"true\"/>\n",
      "        </listOfProducts>\n",
      "        <kineticLaw>\n",
      "          <math xmlns=\"http://www.w3.org/1998/Math/MathML\">\n",
      "            <apply>\n",
      "              <times/>\n",
      "              <ci> kb </ci>\n",
      "              <ci> SE </ci>\n",
      "            </apply>\n",
      "          </math>\n",
      "        </kineticLaw>\n",
      "      </reaction>\n",
      "      <reaction id=\"R3\" reversible=\"false\" fast=\"false\">\n",
      "        <listOfReactants>\n",
      "          <speciesReference species=\"SE\" stoichiometry=\"1\" constant=\"true\"/>\n",
      "        </listOfReactants>\n",
      "        <listOfProducts>\n",
      "          <speciesReference species=\"E\" stoichiometry=\"1\" constant=\"true\"/>\n",
      "          <speciesReference species=\"P\" stoichiometry=\"1\" constant=\"true\"/>\n",
      "        </listOfProducts>\n",
      "        <kineticLaw>\n",
      "          <math xmlns=\"http://www.w3.org/1998/Math/MathML\">\n",
      "            <apply>\n",
      "              <times/>\n",
      "              <ci> kcat </ci>\n",
      "              <ci> SE </ci>\n",
      "            </apply>\n",
      "          </math>\n",
      "        </kineticLaw>\n",
      "      </reaction>\n",
      "    </listOfReactions>\n",
      "  </model>\n",
      "</sbml>\n",
      "\n"
     ]
    }
   ],
   "source": [
    "import tellurium as te\n",
    "\n",
    "ant = \"\"\"\n",
    "model new_model\n",
    "    R1: S + E => SE ; kf*S*E;\n",
    "    R2: SE => S + E ; kb*SE;\n",
    "    R3: SE => E + P ; kcat*SE;\n",
    "    S = 100\n",
    "    E = 0.5\n",
    "    SE = 0\n",
    "    P = 0\n",
    "    kf = 0.1 \n",
    "    kb = 0.01\n",
    "    kcat = 0.0001\n",
    "end\n",
    "\"\"\"\n",
    "\n",
    "sbml = te.loada(ant).getSBML()\n",
    "print(sbml)\n"
   ]
  },
  {
   "cell_type": "code",
   "execution_count": 2,
   "metadata": {},
   "outputs": [],
   "source": [
    "sbml_with_manually_added_metaids = \"\"\"\n",
    "<?xml version=\"1.0\" encoding=\"UTF-8\"?>\n",
    "<sbml xmlns=\"http://www.sbml.org/sbml/level3/version1/core\" level=\"3\" version=\"1\">\n",
    "  <model metaid=\"new_model\" id=\"new_model\">\n",
    "    <listOfCompartments>\n",
    "      <compartment sboTerm=\"SBO:0000410\" id=\"default_compartment\" metaid=\"compartment_id\" spatialDimensions=\"3\" size=\"1\" constant=\"true\"/>\n",
    "    </listOfCompartments>\n",
    "    <listOfSpecies>\n",
    "      <species id=\"S\" compartment=\"default_compartment\"  metaid=\"S\" initialConcentration=\"100\" hasOnlySubstanceUnits=\"false\" boundaryCondition=\"false\" constant=\"false\"/>\n",
    "      <species id=\"E\" compartment=\"default_compartment\"  metaid=\"E\" initialConcentration=\"0.5\" hasOnlySubstanceUnits=\"false\" boundaryCondition=\"false\" constant=\"false\"/>\n",
    "      <species id=\"SE\" compartment=\"default_compartment\" metaid=\"SE\" initialConcentration=\"0\" hasOnlySubstanceUnits=\"false\" boundaryCondition=\"false\" constant=\"false\"/>\n",
    "      <species id=\"P\" compartment=\"default_compartment\"  metaid=\"P\" initialConcentration=\"0\" hasOnlySubstanceUnits=\"false\" boundaryCondition=\"false\" constant=\"false\"/>\n",
    "    </listOfSpecies>\n",
    "    <listOfParameters>\n",
    "      <parameter id=\"kf\" metaid=\"kf\" value=\"0.1\" constant=\"true\"/>\n",
    "      <parameter id=\"kb\" metaid=\"kb\" value=\"0.01\" constant=\"true\"/>\n",
    "      <parameter id=\"kcat\" metaid=\"kcat\" value=\"0.0001\" constant=\"true\"/>\n",
    "    </listOfParameters>\n",
    "    <listOfReactions>\n",
    "      <reaction id=\"R1\" metaid=\"R1\" reversible=\"false\" fast=\"false\">\n",
    "        <listOfReactants>\n",
    "          <speciesReference species=\"S\" stoichiometry=\"1\" constant=\"true\"/>\n",
    "          <speciesReference species=\"E\" stoichiometry=\"1\" constant=\"true\"/>\n",
    "        </listOfReactants>\n",
    "        <listOfProducts>\n",
    "          <speciesReference species=\"SE\" stoichiometry=\"1\" constant=\"true\"/>\n",
    "        </listOfProducts>\n",
    "        <kineticLaw>\n",
    "          <math xmlns=\"http://www.w3.org/1998/Math/MathML\">\n",
    "            <apply>\n",
    "              <times/>\n",
    "              <ci> kf </ci>\n",
    "              <ci> S </ci>\n",
    "              <ci> E </ci>\n",
    "            </apply>\n",
    "          </math>\n",
    "        </kineticLaw>\n",
    "      </reaction>\n",
    "      <reaction id=\"R2\" metaid=\"R2\" reversible=\"false\" fast=\"false\">\n",
    "        <listOfReactants>\n",
    "          <speciesReference species=\"SE\" stoichiometry=\"1\" constant=\"true\"/>\n",
    "        </listOfReactants>\n",
    "        <listOfProducts>\n",
    "          <speciesReference species=\"S\" stoichiometry=\"1\" constant=\"true\"/>\n",
    "          <speciesReference species=\"E\" stoichiometry=\"1\" constant=\"true\"/>\n",
    "        </listOfProducts>\n",
    "        <kineticLaw>\n",
    "          <math xmlns=\"http://www.w3.org/1998/Math/MathML\">\n",
    "            <apply>\n",
    "              <times/>\n",
    "              <ci> kb </ci>\n",
    "              <ci> SE </ci>\n",
    "            </apply>\n",
    "          </math>\n",
    "        </kineticLaw>\n",
    "      </reaction>\n",
    "      <reaction id=\"R3\" metaid=\"R3\" reversible=\"false\" fast=\"false\">\n",
    "        <listOfReactants>\n",
    "          <speciesReference species=\"SE\" stoichiometry=\"1\" constant=\"true\"/>\n",
    "        </listOfReactants>\n",
    "        <listOfProducts>\n",
    "          <speciesReference species=\"E\" stoichiometry=\"1\" constant=\"true\"/>\n",
    "          <speciesReference species=\"P\" stoichiometry=\"1\" constant=\"true\"/>\n",
    "        </listOfProducts>\n",
    "        <kineticLaw>\n",
    "          <math xmlns=\"http://www.w3.org/1998/Math/MathML\">\n",
    "            <apply>\n",
    "              <times/>\n",
    "              <ci> kcat </ci>\n",
    "              <ci> SE </ci>\n",
    "            </apply>\n",
    "          </math>\n",
    "        </kineticLaw>\n",
    "      </reaction>\n",
    "    </listOfReactions>\n",
    "  </model>\n",
    "</sbml>\n",
    "\"\"\""
   ]
  },
  {
   "cell_type": "markdown",
   "metadata": {},
   "source": [
    "# Personal Information"
   ]
  },
  {
   "cell_type": "code",
   "execution_count": null,
   "metadata": {},
   "outputs": [],
   "source": [
    "from pyomexmeta import RDF, Editor, PersonalInformation \n",
    "rdf = RDF()\n",
    "editor = rdf.to_editor(sbml_with_manually_added_metaids, generate_new_metaids=True)\n",
    "with editor.new_personal_information() as personal_information:\n",
    "    personal_information.add_creator(\"1234-1234-1234-1234\") \\\n",
    "        .add_name(\"Ciaran\") \\\n",
    "        .add_mbox(\"cwelsh2@uw.edu\") \\\n",
    "        .add_account_name(\"1234-1234-1234-1234\") \\\n",
    "        .add_account_service_homepage(\"https://github.com/sys-bio/libomexmeta\")\n",
    "\n",
    "print(rdf)"
   ]
  },
  {
   "cell_type": "markdown",
   "metadata": {},
   "source": [
    "# Physical Entity"
   ]
  },
  {
   "cell_type": "code",
   "execution_count": 1,
   "metadata": {},
   "outputs": [
    {
     "ename": "NameError",
     "evalue": "name 'sbml_with_manually_added_metaids' is not defined",
     "output_type": "error",
     "traceback": [
      "\u001b[1;31m---------------------------------------------------------------------------\u001b[0m",
      "\u001b[1;31mNameError\u001b[0m                                 Traceback (most recent call last)",
      "\u001b[1;32m<ipython-input-1-b8ac2caa4833>\u001b[0m in \u001b[0;36m<module>\u001b[1;34m\u001b[0m\n\u001b[0;32m      2\u001b[0m \u001b[1;33m\u001b[0m\u001b[0m\n\u001b[0;32m      3\u001b[0m \u001b[0mrdf\u001b[0m \u001b[1;33m=\u001b[0m \u001b[0mRDF\u001b[0m\u001b[1;33m(\u001b[0m\u001b[1;33m)\u001b[0m\u001b[1;33m\u001b[0m\u001b[1;33m\u001b[0m\u001b[0m\n\u001b[1;32m----> 4\u001b[1;33m \u001b[0meditor\u001b[0m \u001b[1;33m=\u001b[0m \u001b[0mrdf\u001b[0m\u001b[1;33m.\u001b[0m\u001b[0mto_editor\u001b[0m\u001b[1;33m(\u001b[0m\u001b[0msbml_with_manually_added_metaids\u001b[0m\u001b[1;33m)\u001b[0m\u001b[1;33m\u001b[0m\u001b[1;33m\u001b[0m\u001b[0m\n\u001b[0m\u001b[0;32m      5\u001b[0m \u001b[1;33m\u001b[0m\u001b[0m\n\u001b[0;32m      6\u001b[0m \u001b[1;32mwith\u001b[0m \u001b[0meditor\u001b[0m\u001b[1;33m.\u001b[0m\u001b[0mnew_physical_entity\u001b[0m\u001b[1;33m(\u001b[0m\u001b[1;33m)\u001b[0m \u001b[1;32mas\u001b[0m \u001b[0mphysical_entity\u001b[0m\u001b[1;33m:\u001b[0m\u001b[1;33m\u001b[0m\u001b[1;33m\u001b[0m\u001b[0m\n",
      "\u001b[1;31mNameError\u001b[0m: name 'sbml_with_manually_added_metaids' is not defined"
     ]
    }
   ],
   "source": [
    "from pyomexmeta import RDF, Editor, PhysicalEntity\n",
    "\n",
    "rdf = RDF()\n",
    "editor = rdf.to_editor(sbml_with_manually_added_metaids)\n",
    "\n",
    "with editor.new_physical_entity() as physical_entity:\n",
    "    physical_entity.set_about(\"S\") \\\n",
    "        .is_version_of(\"opb:opb_12345\")\\\n",
    "        .set_identity(\"uniprot/PD12345\")\\\n",
    "        .is_part_of(\"fma:fma:12345\") # or add_location. They both work\n",
    "        \n",
    "    \n",
    "print(rdf)"
   ]
  },
  {
   "cell_type": "markdown",
   "metadata": {},
   "source": [
    "# PhysicalProcess"
   ]
  },
  {
   "cell_type": "code",
   "execution_count": 2,
   "metadata": {},
   "outputs": [
    {
     "ename": "NameError",
     "evalue": "name 'sbml_with_manually_added_metaids' is not defined",
     "output_type": "error",
     "traceback": [
      "\u001b[1;31m---------------------------------------------------------------------------\u001b[0m",
      "\u001b[1;31mNameError\u001b[0m                                 Traceback (most recent call last)",
      "\u001b[1;32m<ipython-input-2-d77c0e28badd>\u001b[0m in \u001b[0;36m<module>\u001b[1;34m\u001b[0m\n\u001b[0;32m      2\u001b[0m \u001b[1;33m\u001b[0m\u001b[0m\n\u001b[0;32m      3\u001b[0m \u001b[0mrdf\u001b[0m \u001b[1;33m=\u001b[0m \u001b[0mRDF\u001b[0m\u001b[1;33m(\u001b[0m\u001b[1;33m)\u001b[0m\u001b[1;33m\u001b[0m\u001b[1;33m\u001b[0m\u001b[0m\n\u001b[1;32m----> 4\u001b[1;33m \u001b[0meditor\u001b[0m \u001b[1;33m=\u001b[0m \u001b[0mrdf\u001b[0m\u001b[1;33m.\u001b[0m\u001b[0mto_editor\u001b[0m\u001b[1;33m(\u001b[0m\u001b[0msbml_with_manually_added_metaids\u001b[0m\u001b[1;33m)\u001b[0m\u001b[1;33m\u001b[0m\u001b[1;33m\u001b[0m\u001b[0m\n\u001b[0m\u001b[0;32m      5\u001b[0m \u001b[1;33m\u001b[0m\u001b[0m\n\u001b[0;32m      6\u001b[0m \u001b[1;32mwith\u001b[0m \u001b[0meditor\u001b[0m\u001b[1;33m.\u001b[0m\u001b[0mnew_physical_process\u001b[0m\u001b[1;33m(\u001b[0m\u001b[1;33m)\u001b[0m \u001b[1;32mas\u001b[0m \u001b[0mphysical_process\u001b[0m\u001b[1;33m:\u001b[0m\u001b[1;33m\u001b[0m\u001b[1;33m\u001b[0m\u001b[0m\n",
      "\u001b[1;31mNameError\u001b[0m: name 'sbml_with_manually_added_metaids' is not defined"
     ]
    }
   ],
   "source": [
    "from pyomexmeta import RDF, Editor, PhysicalProcess\n",
    "\n",
    "rdf = RDF()\n",
    "editor = rdf.to_editor(sbml_with_manually_added_metaids)\n",
    "\n",
    "with editor.new_physical_process() as physical_process:\n",
    "    physical_process.set_about(\"R1\") \\\n",
    "        .is_version_of(\"opb:opb_12345\")\\\n",
    "        .add_source(1.0, \"S\")\\\n",
    "        .add_modifier(1.0, \"E\")\n",
    "\n",
    "    \n",
    "    \n",
    "    \n",
    "print(rdf)"
   ]
  },
  {
   "cell_type": "code",
   "execution_count": null,
   "metadata": {},
   "outputs": [],
   "source": []
  },
  {
   "cell_type": "code",
   "execution_count": null,
   "metadata": {},
   "outputs": [],
   "source": []
  },
  {
   "cell_type": "code",
   "execution_count": null,
   "metadata": {},
   "outputs": [],
   "source": []
  },
  {
   "cell_type": "code",
   "execution_count": null,
   "metadata": {},
   "outputs": [],
   "source": []
  },
  {
   "cell_type": "code",
   "execution_count": null,
   "metadata": {},
   "outputs": [],
   "source": []
  },
  {
   "cell_type": "code",
   "execution_count": null,
   "metadata": {},
   "outputs": [],
   "source": []
  },
  {
   "cell_type": "code",
   "execution_count": null,
   "metadata": {},
   "outputs": [],
   "source": []
  },
  {
   "cell_type": "code",
   "execution_count": null,
   "metadata": {},
   "outputs": [],
   "source": []
  },
  {
   "cell_type": "code",
   "execution_count": null,
   "metadata": {},
   "outputs": [],
   "source": []
  },
  {
   "cell_type": "code",
   "execution_count": null,
   "metadata": {},
   "outputs": [],
   "source": []
  },
  {
   "cell_type": "code",
   "execution_count": null,
   "metadata": {},
   "outputs": [],
   "source": []
  },
  {
   "cell_type": "code",
   "execution_count": null,
   "metadata": {},
   "outputs": [],
   "source": []
  },
  {
   "cell_type": "code",
   "execution_count": null,
   "metadata": {},
   "outputs": [],
   "source": []
  },
  {
   "cell_type": "code",
   "execution_count": null,
   "metadata": {},
   "outputs": [],
   "source": []
  },
  {
   "cell_type": "code",
   "execution_count": null,
   "metadata": {},
   "outputs": [],
   "source": []
  },
  {
   "cell_type": "code",
   "execution_count": null,
   "metadata": {},
   "outputs": [],
   "source": []
  },
  {
   "cell_type": "code",
   "execution_count": null,
   "metadata": {},
   "outputs": [],
   "source": []
  },
  {
   "cell_type": "code",
   "execution_count": null,
   "metadata": {},
   "outputs": [],
   "source": []
  },
  {
   "cell_type": "code",
   "execution_count": null,
   "metadata": {},
   "outputs": [],
   "source": []
  },
  {
   "cell_type": "code",
   "execution_count": null,
   "metadata": {},
   "outputs": [],
   "source": []
  }
 ],
 "metadata": {
  "kernelspec": {
   "display_name": "Python 3",
   "language": "python",
   "name": "python3"
  },
  "language_info": {
   "codemirror_mode": {
    "name": "ipython",
    "version": 3
   },
   "file_extension": ".py",
   "mimetype": "text/x-python",
   "name": "python",
   "nbconvert_exporter": "python",
   "pygments_lexer": "ipython3",
   "version": "3.7.6"
  }
 },
 "nbformat": 4,
 "nbformat_minor": 4
}
